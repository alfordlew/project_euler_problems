{
 "cells": [
  {
   "cell_type": "code",
   "execution_count": 1,
   "metadata": {},
   "outputs": [],
   "source": [
    "import numpy as np"
   ]
  },
  {
   "cell_type": "code",
   "execution_count": 20,
   "metadata": {},
   "outputs": [],
   "source": [
    "def triangular_number(num_of_divisors):\n",
    "    divisors = 0\n",
    "    i = 2031120\n",
    "    while divisors < num_of_divisors:\n",
    "        triangle_number= (sum(range(i)))\n",
    "        divisor_list = []\n",
    "        for y in range(1,triangle_number//2+1):\n",
    "            if triangle_number % y == 0:\n",
    "                divisor_list.append(y)\n",
    "        divisors = len(divisor_list)\n",
    "        i += 2\n",
    "    return triangle_number\n",
    "        "
   ]
  },
  {
   "cell_type": "code",
   "execution_count": 66,
   "metadata": {},
   "outputs": [],
   "source": [
    "def triangular_number2(num_of_divisors):\n",
    "    divisors = 0\n",
    "    i = 0\n",
    "    while num_of_divisors >= divisors:\n",
    "        triangle_number= (sum(range(i)))\n",
    "        divisor_list = []\n",
    "        for y in range(1,int(np.sqrt(triangle_number)+0.5)+1):\n",
    "            if triangle_number % y == 0:\n",
    "                divisor_list.append(y)\n",
    "                if y != triangle_number/y:\n",
    "                    divisor_list.append(triangle_number/y)\n",
    "        divisors = len(divisor_list)\n",
    "        i += 2\n",
    "    return divisors, triangle_number"
   ]
  },
  {
   "cell_type": "code",
   "execution_count": 67,
   "metadata": {},
   "outputs": [
    {
     "data": {
      "text/plain": [
       "(576, 76576500)"
      ]
     },
     "execution_count": 67,
     "metadata": {},
     "output_type": "execute_result"
    }
   ],
   "source": [
    "triangular_number2(500)\n"
   ]
  },
  {
   "cell_type": "code",
   "execution_count": null,
   "metadata": {},
   "outputs": [],
   "source": []
  }
 ],
 "metadata": {
  "kernelspec": {
   "display_name": "Python 3",
   "language": "python",
   "name": "python3"
  },
  "language_info": {
   "codemirror_mode": {
    "name": "ipython",
    "version": 3
   },
   "file_extension": ".py",
   "mimetype": "text/x-python",
   "name": "python",
   "nbconvert_exporter": "python",
   "pygments_lexer": "ipython3",
   "version": "3.6.5"
  }
 },
 "nbformat": 4,
 "nbformat_minor": 2
}
