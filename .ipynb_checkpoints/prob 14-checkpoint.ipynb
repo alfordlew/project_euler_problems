{
 "cells": [
  {
   "cell_type": "code",
   "execution_count": 35,
   "metadata": {},
   "outputs": [],
   "source": [
    "def collatz(n):\n",
    "    sequence = n\n",
    "    count = 1\n",
    "    collatz_dict = {}\n",
    "    while sequence != 1:\n",
    "        if sequence%2 == 0:\n",
    "            sequence = sequence/2\n",
    "        else:\n",
    "            sequence = 3*sequence + 1\n",
    "        collatz_dict[sequence] = count\n",
    "        count += 1\n",
    "    return n, count"
   ]
  },
  {
   "cell_type": "code",
   "execution_count": 36,
   "metadata": {},
   "outputs": [
    {
     "data": {
      "text/plain": [
       "(5, 6)"
      ]
     },
     "execution_count": 36,
     "metadata": {},
     "output_type": "execute_result"
    }
   ],
   "source": [
    "collatz(5)"
   ]
  },
  {
   "cell_type": "code",
   "execution_count": 41,
   "metadata": {},
   "outputs": [],
   "source": [
    "def collatz(n):\n",
    "    sequence = n\n",
    "    count = 1\n",
    "    collatz_dict = {}\n",
    "    while sequence != 1:\n",
    "        \n",
    "        if sequence%2 == 0:\n",
    "            sequence = sequence/2\n",
    "        else:\n",
    "            sequence = 3*sequence + 1\n",
    "        collatz_dict[sequence] = count\n",
    "        count += 1\n",
    "    for z in collatz_dict:\n",
    "        collatz_dict[z] = count - collatz_dict[z]\n",
    "    collatz_dict[n] = count\n",
    "    return collatz_dict"
   ]
  },
  {
   "cell_type": "code",
   "execution_count": null,
   "metadata": {},
   "outputs": [],
   "source": []
  },
  {
   "cell_type": "code",
   "execution_count": 42,
   "metadata": {},
   "outputs": [
    {
     "data": {
      "text/plain": [
       "{16: 5, 8.0: 4, 4.0: 3, 2.0: 2, 1.0: 1, 5: 6}"
      ]
     },
     "execution_count": 42,
     "metadata": {},
     "output_type": "execute_result"
    }
   ],
   "source": [
    "collatz(5)"
   ]
  },
  {
   "cell_type": "code",
   "execution_count": 29,
   "metadata": {},
   "outputs": [
    {
     "data": {
      "text/plain": [
       "1"
      ]
     },
     "execution_count": 29,
     "metadata": {},
     "output_type": "execute_result"
    }
   ],
   "source": []
  },
  {
   "cell_type": "code",
   "execution_count": null,
   "metadata": {},
   "outputs": [],
   "source": []
  }
 ],
 "metadata": {
  "kernelspec": {
   "display_name": "Python 3",
   "language": "python",
   "name": "python3"
  },
  "language_info": {
   "codemirror_mode": {
    "name": "ipython",
    "version": 3
   },
   "file_extension": ".py",
   "mimetype": "text/x-python",
   "name": "python",
   "nbconvert_exporter": "python",
   "pygments_lexer": "ipython3",
   "version": "3.6.5"
  }
 },
 "nbformat": 4,
 "nbformat_minor": 2
}
